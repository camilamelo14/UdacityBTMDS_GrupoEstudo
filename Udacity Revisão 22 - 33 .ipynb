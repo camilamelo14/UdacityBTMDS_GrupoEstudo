{
 "cells": [
  {
   "cell_type": "markdown",
   "metadata": {},
   "source": [
    "### Python"
   ]
  },
  {
   "cell_type": "markdown",
   "metadata": {},
   "source": [
    "PodCasts/Materiais:\n",
    "\n",
    "   - Pizza de dados: http://pizzadedados.com/\n",
    "   - Trelo BigData: https://trello.com/b/rbpEfMld/data-science\n",
    "   - HipsterTech - BigData: https://hipsters.tech/machine-learning-hipsters-88/\n",
    "   - DatabaseCast 82: Ciência e dados: http://databasecast.com.br/wp/databasecast-82-ciencia-e-dados/\n",
    "   - Super Data Science: https://www.superdatascience.com/podcast/\n",
    "   - Notícias: https://www.kdnuggets.com/\n",
    "   - URI Online Judge: https://www.urionlinejudge.com.br/judge/en/login\n",
    "   - USP - Probabilidade e Estatítica: https://veduca.org/p/probabilidade-e-estatistica"
   ]
  },
  {
   "cell_type": "markdown",
   "metadata": {},
   "source": [
    "#### Introdução\n",
    "\n",
    "Você vai aprender...\n",
    "\n",
    "fundamentos da linguagem de programação Python, juntamente com as melhores práticas de programação. para representar e armazenar dados usando tipos e variáveis de dados do Python. para usar condicionais e loops para controlar o fluxo de seus programas. para aproveitar o poder de estruturas de dados complexas como listas, conjuntos, dicionários e tuplas para armazenar coleções de dados relacionados. para definir e documentar suas próprias funções personalizadas, escrever scripts e manipular erros. para encontrar e usar módulos na Biblioteca Padrão do Python e em outras bibliotecas de terceiros\n",
    "\n",
    "#### Algumas informações básicas sobre a linguagem:\n",
    "\n",
    "- Python diferencia maiúsculas de minúsculas. Ou seja, Print não é a mesma coisa que print.\n",
    "- Linhas de código iniciadas com cerquilha (#) são consideradas comentários e não são executads.\n",
    "Python é uma das poucas linguagens de programação que utiliza recuos de linhas para delimitar blocos de código. Em Pascal utiliza-se BEGIN e END e em C, Java e R utilizam-se chaves {}. Em Python todas as linhas que estiverem alinhadas pelo mesmo número de espaços em relação à margem esquerda estão no mesmo bloco de código. A recomendação é a de utilização de espaços (4 ou 8) em vez de tabulações.\n",
    "- Apesar de Python vir com 'baterias inclusas', a linguagem tem caráter modular e algumas funcionalidades, mesmo presentes na biblioteca padrão, não estão presentes imediatamente e precisam ser importadas. Por exemplo, as funções para lidar com o sistema de arquivos do S.O. estão presentes na biblioteca os que precisa ser importada antes de utilizar. Para importar um módulo basta utilizar a palavra reservada import seguida pelo nome do módulo.\n",
    "\n",
    "     Por exemplo import os\n",
    "\n",
    "- Utilizaremos neste curso o Jupyter Notebook, um ambiente muito utilizado em ciência de dados. O Jupyter Notebook permite realizar anotações em markdown, HTML e $\\LaTeX$, os notebooks são renderizados pelo GitHub e possui kernels para Julia, Python e R. Para executar o código em uma célula basta pressionar CTRL+Enter ou selecionar Cell->Run Cells. Os principais comandos são A para inserir uma célula acima da atual, B para inserir uma célula abaixo da atual, M para permitir editar a célula como markdown (ou HTML ou $\\LaTeX$), Y para transfomar a célula em uma célula de código.\n",
    "- Python possui um eater egg (ovo de páscoa) muito interessante. Importe o pacote this executando o comando import this\n",
    "\n",
    "Para mais detalhes sobre The zen of Python visite https://www.quora.com/What-do-different-aphorisms-in-The-Zen-of-Python-mean"
   ]
  },
  {
   "cell_type": "markdown",
   "metadata": {},
   "source": [
    "#### Tipos de dados e Operadores"
   ]
  },
  {
   "cell_type": "code",
   "execution_count": 1,
   "metadata": {},
   "outputs": [
    {
     "name": "stdout",
     "output_type": "stream",
     "text": [
      "Muito utilizado para debugar o código ou gerar alertas\n"
     ]
    }
   ],
   "source": [
    "print('Muito utilizado para debugar o código ou gerar alertas')"
   ]
  },
  {
   "cell_type": "markdown",
   "metadata": {},
   "source": [
    "#### Operadores aritiméticos\n",
    "\n",
    "|Operador | Desc.                       |\n",
    "|---------|-----------------------------|\n",
    "|+        | Adição                      |\n",
    "|-        | Subtração                   |\n",
    "|*        | Multiplicação               |\n",
    "|/        | Divisão                     |\n",
    "|%        | Módulo                      |\n",
    "|**       | Exponeciação                |\n",
    "|//       | Faz a divisão inteira       |\n",
    "|^        | lógica binária XOR          |"
   ]
  },
  {
   "cell_type": "code",
   "execution_count": 2,
   "metadata": {},
   "outputs": [
    {
     "name": "stdout",
     "output_type": "stream",
     "text": [
      "7\n"
     ]
    }
   ],
   "source": [
    "#Python utiliza a ordem matemática de operações por padrão\n",
    "print(1+2*3)"
   ]
  },
  {
   "cell_type": "code",
   "execution_count": 3,
   "metadata": {},
   "outputs": [
    {
     "name": "stdout",
     "output_type": "stream",
     "text": [
      "2\n",
      "X: 1  Y: 2  Z: 3\n"
     ]
    }
   ],
   "source": [
    "#Declaração de uma variável\n",
    "a = 2\n",
    "b = a\n",
    "print(b)\n",
    "\n",
    "x,y,z = 1,2,3\n",
    "\n",
    "print(\"X:\",x,\" Y:\",y,\" Z:\",z)"
   ]
  },
  {
   "cell_type": "code",
   "execution_count": 4,
   "metadata": {},
   "outputs": [
    {
     "name": "stdout",
     "output_type": "stream",
     "text": [
      "6229.929137140475\n"
     ]
    }
   ],
   "source": [
    "#Nomeando variáveis\n",
    "my_population = 74728\n",
    "my_area = 11.995\n",
    "my_density = my_population / my_area\n",
    "print(my_density)"
   ]
  },
  {
   "cell_type": "markdown",
   "metadata": {},
   "source": [
    "#### Palavras reservadas\n",
    "\n",
    "![01.png](img/01.png)"
   ]
  },
  {
   "cell_type": "markdown",
   "metadata": {},
   "source": [
    "Para representar nossos códigos de forma mais clara, utilizaremos o seguinte site: http://pythontutor.com/visualize.html#mode=edit"
   ]
  },
  {
   "cell_type": "markdown",
   "metadata": {},
   "source": [
    "https://goo.gl/qRfuJ9"
   ]
  },
  {
   "cell_type": "code",
   "execution_count": 5,
   "metadata": {
    "scrolled": true
   },
   "outputs": [
    {
     "name": "stdout",
     "output_type": "stream",
     "text": [
      "My Population 78128 \n",
      "\n",
      "A 400\n"
     ]
    }
   ],
   "source": [
    "#Atualização de variável\n",
    "\n",
    "my_population = 74728\n",
    "my_population += 4000 - 600\n",
    "print('My Population',my_population,'\\n')\n",
    "\n",
    "#Multiplicação\n",
    "a = 4\n",
    "a *= 100\n",
    "\n",
    "print('A',a)"
   ]
  },
  {
   "cell_type": "markdown",
   "metadata": {},
   "source": [
    "#### Integers and Floats\n",
    "\n",
    "   - int: Valores inteiros\n",
    "   - float: valores decimais contendo pontos\n",
    "   \n",
    "Link para obter mais detalhes da representação do float em Python: https://docs.python.org/3/tutorial/floatingpoint.html"
   ]
  },
  {
   "cell_type": "markdown",
   "metadata": {},
   "source": [
    "https://goo.gl/Bii3p6"
   ]
  },
  {
   "cell_type": "code",
   "execution_count": 7,
   "metadata": {
    "scrolled": true
   },
   "outputs": [
    {
     "name": "stdout",
     "output_type": "stream",
     "text": [
      "Tipo 1 <class 'int'>\n",
      "Tipo 2 <class 'float'>\n",
      "<class 'int'>\n",
      "<class 'float'>\n"
     ]
    }
   ],
   "source": [
    "var_integer = 1\n",
    "var_float = 1.0\n",
    "\n",
    "print('Tipo 1',type(var_integer))\n",
    "print('Tipo 2',type(var_float))\n",
    "\n",
    "#Conversão float para integer (Não é arredondado)\n",
    "print(type(int(var_float)))\n",
    "\n",
    "#Conversão int para float\n",
    "print(type(float(var_integer)))"
   ]
  },
  {
   "cell_type": "markdown",
   "metadata": {},
   "source": [
    "Traceback significa \"O que a programação estava fazendo quando quebrou\"! \n",
    "\n",
    "Esta parte é geralmente menos útil do que a última linha do seu erro. \n",
    "\n",
    "Embora você possa analisar o restante do erro, olhando apenas para a linha final ZeroDivisionError, a mensagem diz que dividimos por zero. O Python está impondo as regras da aritmética!\n",
    "\n",
    "Em geral, existem dois tipos de erros a serem observados\n",
    "\n",
    "   - Exceções\n",
    "   - Sintaxe\n",
    "   \n",
    "Uma Exceção é um problema que ocorre quando o código está em execução, mas um 'Erro de Sintaxe' é um problema detectado quando o Python verifica o código antes de executá-lo. Para maiores informações: https://docs.python.org/3/tutorial/errors.html"
   ]
  },
  {
   "cell_type": "code",
   "execution_count": null,
   "metadata": {},
   "outputs": [],
   "source": [
    "10 * (1/0)"
   ]
  },
  {
   "cell_type": "code",
   "execution_count": null,
   "metadata": {},
   "outputs": [],
   "source": [
    "4 + spam*3"
   ]
  },
  {
   "cell_type": "code",
   "execution_count": null,
   "metadata": {},
   "outputs": [],
   "source": [
    "'2' + 2"
   ]
  },
  {
   "cell_type": "code",
   "execution_count": 9,
   "metadata": {},
   "outputs": [
    {
     "name": "stdout",
     "output_type": "stream",
     "text": [
      "Please enter a number: a\n",
      "Oops!  That was no valid number.  Try again...\n",
      "Please enter a number: 1\n"
     ]
    }
   ],
   "source": [
    "while True:\n",
    "    try:\n",
    "        x = int(input(\"Please enter a number: \"))\n",
    "        break\n",
    "    except ValueError:\n",
    "        print(\"Oops!  That was no valid number.  Try again...\")"
   ]
  },
  {
   "cell_type": "markdown",
   "metadata": {},
   "source": [
    "#### Operadores de comparação"
   ]
  },
  {
   "cell_type": "code",
   "execution_count": 10,
   "metadata": {},
   "outputs": [
    {
     "name": "stdout",
     "output_type": "stream",
     "text": [
      "True\n",
      "False \n",
      "\n",
      "40 < 100 : True\n",
      "40 > 100 : False\n",
      "40 <= 100: True\n",
      "40 >= 100: False\n",
      "40 == 100: False\n",
      "40 != 100: True\n"
     ]
    }
   ],
   "source": [
    "a = True\n",
    "print(a)\n",
    "\n",
    "b = 5 > 100\n",
    "print(b,'\\n')\n",
    "\n",
    "#Operadores de comparação\n",
    "print('40 < 100 :',40 < 100)\n",
    "print('40 > 100 :',40 > 100)\n",
    "print('40 <= 100:',40 <= 100)\n",
    "print('40 >= 100:',40 >= 100)\n",
    "print('40 == 100:',40 == 100)\n",
    "print('40 != 100:',40 != 100)"
   ]
  },
  {
   "cell_type": "code",
   "execution_count": 11,
   "metadata": {},
   "outputs": [
    {
     "name": "stdout",
     "output_type": "stream",
     "text": [
      "| x | y | x and y | \n",
      "------------------- \n",
      "| T | T |    T    |\n",
      "| T | F |    F    |\n",
      "| F | T |    F    |\n",
      "| F | F |    F    |\n",
      "| x | y | x or y | \n",
      "------------------ \n",
      "| T | T |    T   |\n",
      "| T | F |    T   |\n",
      "| F | T |    T   |\n",
      "| F | F |    F   |\n",
      "| x | y | x xor y | \n",
      "------------------- \n",
      "| T | T |    F    |\n",
      "| T | F |    T    |\n",
      "| F | T |    T    |\n",
      "| F | F |    F    |\n",
      "\n",
      "| x | !x |\n",
      "----------\n",
      "| T | F  |\n",
      "| F | T  |\n"
     ]
    }
   ],
   "source": [
    "#Operadores lógicos\n",
    "a = 10==10 and 10==9\n",
    "b = 10==10 or 10==9\n",
    "c = 10==10 ^ 9==10\n",
    "d = 10==10 ^ 10==10\n",
    "e = not 9==9\n",
    "\n",
    "# tabela verdade do and\n",
    "print('| x | y | x and y | ')\n",
    "print('------------------- ')\n",
    "print('| T | T |   ', str(True and True)[0],  '   |')\n",
    "print('| T | F |   ', str(True and False)[0], '   |')\n",
    "print('| F | T |   ', str(False and True)[0], '   |')\n",
    "print('| F | F |   ', str(False and False)[0],'   |')\n",
    "\n",
    "# tabela verdade do or\n",
    "print('| x | y | x or y | ')\n",
    "print('------------------ ')\n",
    "print('| T | T |   ', str(True or True)[0],  '  |')\n",
    "print('| T | F |   ', str(True or False)[0], '  |')\n",
    "print('| F | T |   ', str(False or True)[0], '  |')\n",
    "print('| F | F |   ', str(False or False)[0],'  |')\n",
    "\n",
    "# tabela verdade do xor\n",
    "print('| x | y | x xor y | ')\n",
    "print('------------------- ')\n",
    "print('| T | T |   ', str(True ^ True)[0],  '   |')\n",
    "print('| T | F |   ', str(True ^ False)[0], '   |')\n",
    "print('| F | T |   ', str(False ^ True)[0], '   |')\n",
    "print('| F | F |   ', str(False ^ False)[0],'   |')\n",
    "print(\"\")\n",
    "# tabela verdade do not\n",
    "print('| x | !x |')\n",
    "print('----------')\n",
    "print('| T |', str(not True)[0], ' |')\n",
    "print('| F |', str(not False)[0],' |')"
   ]
  },
  {
   "cell_type": "markdown",
   "metadata": {},
   "source": [
    "### String Methods\n",
    "\n",
    "A method in Python behaves similarly to a function. Methods actually are functions that are called using dot notation. For example, lower() is a string method that can be used like this, on a string called \"sample string\": sample_string.lower().\n",
    "\n",
    "![02.png](img/02.png)"
   ]
  },
  {
   "cell_type": "markdown",
   "metadata": {},
   "source": [
    "#### format()"
   ]
  },
  {
   "cell_type": "code",
   "execution_count": 13,
   "metadata": {
    "scrolled": true
   },
   "outputs": [
    {
     "name": "stdout",
     "output_type": "stream",
     "text": [
      "Does your dog bite?\n",
      "Maria loves math and statistics\n"
     ]
    }
   ],
   "source": [
    "animal = \"dog\"\n",
    "action = \"bite\"\n",
    "print(\"Does your {} {}?\".format(animal, action))\n",
    "\n",
    "maria_string = \"Maria loves {} and {}\"\n",
    "print(maria_string.format(\"math\",\"statistics\"))"
   ]
  },
  {
   "cell_type": "markdown",
   "metadata": {},
   "source": [
    "#### List\n",
    "\n",
    "Listas representas diversos dados agrupados e são:\n",
    "\n",
    "    - Indexados por zero (O primeiro elemento está na posição 0)\n",
    "    - -1 Referencia o último registro "
   ]
  },
  {
   "cell_type": "markdown",
   "metadata": {},
   "source": [
    "https://goo.gl/mKnz3d"
   ]
  },
  {
   "cell_type": "code",
   "execution_count": 14,
   "metadata": {},
   "outputs": [],
   "source": [
    "#Exemplo de declaração de Lista\n",
    "list_of_random_things = [1, 3.4, 'a string', True]\n",
    "\n",
    "a = list_of_random_things[0]\n",
    "b = list_of_random_things[1]\n",
    "c = list_of_random_things[2]\n",
    "d = list_of_random_things[3]\n",
    "e = list_of_random_things[-1]\n",
    "f = list_of_random_things[-2]"
   ]
  },
  {
   "cell_type": "code",
   "execution_count": 15,
   "metadata": {
    "scrolled": true
   },
   "outputs": [
    {
     "name": "stdout",
     "output_type": "stream",
     "text": [
      "1\n",
      "6\n",
      "['2', '3', '4', '5']\n",
      "['1', '2', '3', '4', '5']\n",
      "['1', '3', '5']\n",
      "['4', '3', '2', '1']\n",
      "nnamsletreB\n"
     ]
    }
   ],
   "source": [
    "s = [\"1\", \"2\", \"3\", \"4\", \"5\", \"6\"]\n",
    "\n",
    "# acessando o primeiro e o último elemento\n",
    "print(s[0])\n",
    "print(s[-1])\n",
    "\n",
    "# imprime a lista sem o \n",
    "# primeiro e último elementos\n",
    "print(s[1:-1])\n",
    "print(s[:-1])\n",
    "\n",
    "# acessando elementos de n em n, no exemplo de 2 em 2 iniciando a primeira posição\n",
    "print(s[::2])\n",
    "\n",
    "# 1 em 1 iniciando a terceira posição\n",
    "print(s[3::-1])\n",
    "\n",
    "#Inversão de lista/string\n",
    "nome = 'Bertelsmann'\n",
    "print(nome[::-1])"
   ]
  },
  {
   "cell_type": "markdown",
   "metadata": {},
   "source": [
    "#### Are you in OR not in?"
   ]
  },
  {
   "cell_type": "code",
   "execution_count": 16,
   "metadata": {
    "scrolled": true
   },
   "outputs": [
    {
     "name": "stdout",
     "output_type": "stream",
     "text": [
      "Procura 'this' em 'this is a string': True\n",
      "Procura 'in' em 'this is a string': True\n",
      "Proura 'isa' em 'this is a string': False\n",
      "Procura 5 que não esteja [1, 2, 3, 4, 6]: True\n",
      "Procura 5 em [1, 2, 3, 4, 6]: False\n"
     ]
    }
   ],
   "source": [
    "print(\"Procura 'this' em 'this is a string':\",'this' in 'this is a string')\n",
    "print(\"Procura 'in' em 'this is a string':\",'in' in 'this is a string')\n",
    "print(\"Proura 'isa' em 'this is a string':\",'isa' in 'this is a string')\n",
    "print(\"Procura 5 que não esteja [1, 2, 3, 4, 6]:\",5 not in [1, 2, 3, 4, 6])\n",
    "print(\"Procura 5 em [1, 2, 3, 4, 6]:\",5 in [1, 2, 3, 4, 6])"
   ]
  },
  {
   "cell_type": "markdown",
   "metadata": {},
   "source": [
    "#### Mas uma lista é mutável e uma string não\n",
    "\n",
    "E ambas são ordenadas"
   ]
  },
  {
   "cell_type": "markdown",
   "metadata": {},
   "source": [
    "#### Variáveis passadas por valor e por referencia\n",
    "\n",
    "https://goo.gl/4GGA33"
   ]
  },
  {
   "cell_type": "code",
   "execution_count": 18,
   "metadata": {},
   "outputs": [
    {
     "name": "stdout",
     "output_type": "stream",
     "text": [
      "Valor str atual: Valor Alterado \n",
      "Valor Cópia: Valor1\n",
      "['A', 'B', 'A', 'C', 'D']\n",
      "['A', 'B', 'A', 'C', 'D']\n"
     ]
    }
   ],
   "source": [
    "str = \"Valor1\"\n",
    "copy_str = str\n",
    "\n",
    "str = \"Valor Alterado\"\n",
    "\n",
    "print(\"Valor str atual:\",str,\"\\nValor Cópia:\",copy_str)\n",
    "\n",
    "list = [\"A\",\"B\",\"A\",\"C\",\"E\"]\n",
    "copy_list = list\n",
    "\n",
    "list[4] = \"D\"\n",
    "\n",
    "print(list)\n",
    "print(copy_list)"
   ]
  },
  {
   "cell_type": "markdown",
   "metadata": {},
   "source": [
    "https://goo.gl/roZg62"
   ]
  },
  {
   "cell_type": "code",
   "execution_count": 19,
   "metadata": {},
   "outputs": [
    {
     "name": "stdout",
     "output_type": "stream",
     "text": [
      "0\n",
      "1\n",
      "2\n",
      "3\n",
      "4\n",
      "fim...\n"
     ]
    }
   ],
   "source": [
    "\"\"\"\n",
    "Esse programa imprime todos números inteiros \n",
    "entre zero e o valor informado `num`.\n",
    "\"\"\"\n",
    "num = 5\n",
    "i = 0\n",
    "\n",
    "expressao = i < num\n",
    "while expressao:\n",
    "    print(i)\n",
    "    i += 1\n",
    "    expressao = i < num\n",
    "    #break -> Sair do laço\n",
    "    #continue -> Volta ao inicio sem executar a iteração atá o final\n",
    "\n",
    "print('fim...')"
   ]
  },
  {
   "cell_type": "markdown",
   "metadata": {},
   "source": [
    "#### Tipos específicos de dados\n",
    "https://docs.python.org/3/tutorial/datastructures.html\n",
    "\n",
    "Trabalhar apenas com números e strings é muito limitante. Se quisermos armazenar uma coleção de números, com tudo o que aprendemos até aqui teremos que armazenar cada número em uma variável diferente!\n",
    "\n",
    "Python resolve esse problema com outros tipos de dados que permitem armazenar vários valores em um conjunto. Esses tipos são:\n",
    "\n",
    "Listas: [] (list)<br>\n",
    "Dicionários: {} (dict)<br>\n",
    "Tuplas: () (tuple)<br>\n",
    "Conjuntos: {} (set)<br>"
   ]
  },
  {
   "cell_type": "markdown",
   "metadata": {},
   "source": [
    "#### Controle de fluxo"
   ]
  },
  {
   "cell_type": "code",
   "execution_count": 21,
   "metadata": {
    "scrolled": true
   },
   "outputs": [
    {
     "name": "stdout",
     "output_type": "stream",
     "text": [
      "Entre com o salário mensal: 10\n",
      "Para um salário de 10.0 a alíquota de IRRF é 0%\n"
     ]
    }
   ],
   "source": [
    "salário = float(input('Entre com o salário mensal: '))\n",
    "\n",
    "if salário <= 1903.98:\n",
    "    alíquota = 0\n",
    "if salário >= 1903.99 and salário <= 2826.65:\n",
    "    alíquota = 7.5\n",
    "if salário >= 2826.66 and salário <= 3751.05:\n",
    "    alíquota = 15\n",
    "if salário >= 3571.06 and salário <= 4664.68:\n",
    "    alíquota = 22.5\n",
    "if salário > 4664.68:\n",
    "    alíquota = 27.5\n",
    "print(\"Para um salário de {} a alíquota de IRRF é {}%\".format(salário, alíquota))"
   ]
  },
  {
   "cell_type": "markdown",
   "metadata": {},
   "source": [
    "#### Repetições"
   ]
  },
  {
   "cell_type": "markdown",
   "metadata": {},
   "source": [
    "Repetições são a base de vários programas. Elas permitem em poucas linhas de código executar várias atividades repetidamente. Por exemplo, para imprimir os números de 1 a 3 poderíamos fazer\n",
    "\n",
    "print(1)<br>\n",
    "print(2)<br>\n",
    "print(3)<br>\n",
    "\n",
    "ou ainda\n",
    "\n",
    "x = 1<br>\n",
    "print(x)<br>\n",
    "x = 2<br>\n",
    "print(x)<br>\n",
    "x = 3<br>\n",
    "print(x)<br>\n",
    "\n",
    "Mas usando repetições e contadores tudo pode ficar mais fácil!"
   ]
  },
  {
   "cell_type": "markdown",
   "metadata": {},
   "source": [
    "#### While\n",
    "\n",
    "O comando while repete seu bloco de código enquanto uma condição for verdadeira.\n",
    "\n",
    "while <condição>:<br>\n",
    ">algo\n",
    "\n",
    "Imprimir os números de 1 a 3 como acima usando o while é simples..."
   ]
  },
  {
   "cell_type": "code",
   "execution_count": 23,
   "metadata": {},
   "outputs": [
    {
     "name": "stdout",
     "output_type": "stream",
     "text": [
      "1\n",
      "2\n",
      "3\n"
     ]
    }
   ],
   "source": [
    "x = 1\n",
    "while x <= 3:\n",
    "    print(x)\n",
    "    x += 1 # O que equivale a x = x + 1"
   ]
  },
  {
   "cell_type": "markdown",
   "metadata": {},
   "source": [
    "#### for i in range"
   ]
  },
  {
   "cell_type": "code",
   "execution_count": 28,
   "metadata": {},
   "outputs": [
    {
     "name": "stdout",
     "output_type": "stream",
     "text": [
      "0\n",
      "1\n",
      "2\n",
      "3\n"
     ]
    },
    {
     "data": {
      "text/plain": [
       "True"
      ]
     },
     "execution_count": 28,
     "metadata": {},
     "output_type": "execute_result"
    }
   ],
   "source": [
    "for i in range(4):\n",
    "    print(i)\n",
    "    \n",
    "\"a\" in  \"Data Science\""
   ]
  },
  {
   "cell_type": "markdown",
   "metadata": {},
   "source": [
    "#### Função\n",
    "\n",
    "Já trabalhamos com algumas funções como print, len, input e até mesmo list, tuple etc. Agora vamos aprender a criar nossas próprias funções. Isso é importante para criarmos um código reutilizável que evita termos que digitar o mesmo código toda vez que ele tiver que ser executado.\n",
    "\n",
    "Definimos uma nova função através da instrução def. Vejamos como escrever uma função que imprime a soma de dois números."
   ]
  },
  {
   "cell_type": "code",
   "execution_count": 29,
   "metadata": {},
   "outputs": [
    {
     "name": "stdout",
     "output_type": "stream",
     "text": [
      "8\n"
     ]
    }
   ],
   "source": [
    "def soma(a, b):\n",
    "    print(a + b)\n",
    "\n",
    "soma(3, 5)"
   ]
  },
  {
   "cell_type": "code",
   "execution_count": 31,
   "metadata": {},
   "outputs": [
    {
     "name": "stdout",
     "output_type": "stream",
     "text": [
      "(1.557+4j)\n"
     ]
    }
   ],
   "source": [
    "soma(-1.443, 3+4j)"
   ]
  },
  {
   "cell_type": "code",
   "execution_count": 33,
   "metadata": {},
   "outputs": [
    {
     "name": "stdout",
     "output_type": "stream",
     "text": [
      "6\n",
      "15\n"
     ]
    }
   ],
   "source": [
    "# Desempacotando os parâmetros que passaremos a uma função\n",
    "def soma(a, b):\n",
    "    return (a + b)\n",
    "\n",
    "lista = [2, 4]\n",
    "print(soma(*lista))\n",
    "parâmetros = {'a': 5, 'b': 10}\n",
    "print(soma(**parâmetros))"
   ]
  },
  {
   "cell_type": "code",
   "execution_count": 34,
   "metadata": {},
   "outputs": [
    {
     "name": "stdout",
     "output_type": "stream",
     "text": [
      "15\n",
      "6\n",
      "45\n"
     ]
    }
   ],
   "source": [
    "# Criando uma função que aceita valores empacotados\n",
    "def soma(*args):\n",
    "    resultado = 0\n",
    "    for valor in args:\n",
    "        resultado += valor\n",
    "    return resultado\n",
    "\n",
    "print(soma(1, 2, 3, 4, 5))\n",
    "print(soma(2, 4))\n",
    "print(soma(*range(10)))"
   ]
  },
  {
   "cell_type": "markdown",
   "metadata": {},
   "source": [
    "#### Os principais módulos para ciência de dados\n",
    "\n",
    "Python é uma linguagem de propósito geral e, como já dito, já vem com baterias inclusas mas essas baterias não permitem que façamos Ciência de Dados de uma forma rápida e amigável. Um exemplo simples disso é o fato de que a bilioteca padrão de Python não gera nem mesmo uma regressão linear simples. Só a partir do Python 3.4 disponibilizaram o módulo statistics para cálculos simples como média, mediana e desvio padrão.\n",
    "\n",
    "Mas os cientistas de dados usam módulos de terceiros - mas ainda assim de código aberto - para realizarem suas atividades. As bibliotecas mais intimamente ligadas à ciência de dados são:\n",
    "\n",
    "- Statsmodels: http://statsmodels.sourceforge.net/\n",
    "- scikit-learn: http://scikit-learn.org/stable/\n",
    "- NumPy: http://www.numpy.org/\n",
    "- Matplotlib: http://matplotlib.org/\n",
    "- Pandas: http://pandas.pydata.org/"
   ]
  },
  {
   "cell_type": "code",
   "execution_count": 41,
   "metadata": {},
   "outputs": [
    {
     "data": {
      "text/html": [
       "<div>\n",
       "<style scoped>\n",
       "    .dataframe tbody tr th:only-of-type {\n",
       "        vertical-align: middle;\n",
       "    }\n",
       "\n",
       "    .dataframe tbody tr th {\n",
       "        vertical-align: top;\n",
       "    }\n",
       "\n",
       "    .dataframe thead th {\n",
       "        text-align: right;\n",
       "    }\n",
       "</style>\n",
       "<table border=\"1\" class=\"dataframe\">\n",
       "  <thead>\n",
       "    <tr style=\"text-align: right;\">\n",
       "      <th></th>\n",
       "      <th>year</th>\n",
       "      <th>team</th>\n",
       "      <th>wins</th>\n",
       "      <th>losses</th>\n",
       "    </tr>\n",
       "  </thead>\n",
       "  <tbody>\n",
       "    <tr>\n",
       "      <th>0</th>\n",
       "      <td>2010</td>\n",
       "      <td>Bears</td>\n",
       "      <td>11</td>\n",
       "      <td>5</td>\n",
       "    </tr>\n",
       "    <tr>\n",
       "      <th>1</th>\n",
       "      <td>2011</td>\n",
       "      <td>Bears</td>\n",
       "      <td>8</td>\n",
       "      <td>8</td>\n",
       "    </tr>\n",
       "    <tr>\n",
       "      <th>2</th>\n",
       "      <td>2012</td>\n",
       "      <td>Bears</td>\n",
       "      <td>10</td>\n",
       "      <td>6</td>\n",
       "    </tr>\n",
       "    <tr>\n",
       "      <th>3</th>\n",
       "      <td>2011</td>\n",
       "      <td>Packers</td>\n",
       "      <td>15</td>\n",
       "      <td>1</td>\n",
       "    </tr>\n",
       "    <tr>\n",
       "      <th>4</th>\n",
       "      <td>2012</td>\n",
       "      <td>Packers</td>\n",
       "      <td>11</td>\n",
       "      <td>5</td>\n",
       "    </tr>\n",
       "    <tr>\n",
       "      <th>5</th>\n",
       "      <td>2010</td>\n",
       "      <td>Lions</td>\n",
       "      <td>6</td>\n",
       "      <td>10</td>\n",
       "    </tr>\n",
       "    <tr>\n",
       "      <th>6</th>\n",
       "      <td>2011</td>\n",
       "      <td>Lions</td>\n",
       "      <td>10</td>\n",
       "      <td>6</td>\n",
       "    </tr>\n",
       "    <tr>\n",
       "      <th>7</th>\n",
       "      <td>2012</td>\n",
       "      <td>Lions</td>\n",
       "      <td>4</td>\n",
       "      <td>12</td>\n",
       "    </tr>\n",
       "  </tbody>\n",
       "</table>\n",
       "</div>"
      ],
      "text/plain": [
       "   year     team  wins  losses\n",
       "0  2010    Bears    11       5\n",
       "1  2011    Bears     8       8\n",
       "2  2012    Bears    10       6\n",
       "3  2011  Packers    15       1\n",
       "4  2012  Packers    11       5\n",
       "5  2010    Lions     6      10\n",
       "6  2011    Lions    10       6\n",
       "7  2012    Lions     4      12"
      ]
     },
     "execution_count": 41,
     "metadata": {},
     "output_type": "execute_result"
    }
   ],
   "source": [
    "import pandas as pd\n",
    "\n",
    "data = {'year': [2010, 2011, 2012, 2011, 2012, 2010, 2011, 2012],\n",
    "        'team': ['Bears', 'Bears', 'Bears', 'Packers', 'Packers', 'Lions', 'Lions', 'Lions'],\n",
    "        'wins': [11, 8, 10, 15, 11, 6, 10, 4],\n",
    "        'losses': [5, 8, 6, 1, 5, 10, 6, 12]}\n",
    "df = pd.DataFrame(data, columns=['year', 'team', 'wins', 'losses'])\n",
    "df"
   ]
  },
  {
   "cell_type": "code",
   "execution_count": 42,
   "metadata": {
    "scrolled": true
   },
   "outputs": [
    {
     "data": {
      "text/html": [
       "<div>\n",
       "<style scoped>\n",
       "    .dataframe tbody tr th:only-of-type {\n",
       "        vertical-align: middle;\n",
       "    }\n",
       "\n",
       "    .dataframe tbody tr th {\n",
       "        vertical-align: top;\n",
       "    }\n",
       "\n",
       "    .dataframe thead th {\n",
       "        text-align: right;\n",
       "    }\n",
       "</style>\n",
       "<table border=\"1\" class=\"dataframe\">\n",
       "  <thead>\n",
       "    <tr style=\"text-align: right;\">\n",
       "      <th></th>\n",
       "      <th>sepal_length</th>\n",
       "      <th>sepal_width</th>\n",
       "      <th>petal_length</th>\n",
       "      <th>petal_width</th>\n",
       "      <th>species</th>\n",
       "    </tr>\n",
       "  </thead>\n",
       "  <tbody>\n",
       "    <tr>\n",
       "      <th>0</th>\n",
       "      <td>5.1</td>\n",
       "      <td>3.5</td>\n",
       "      <td>1.4</td>\n",
       "      <td>0.2</td>\n",
       "      <td>Iris-setosa</td>\n",
       "    </tr>\n",
       "    <tr>\n",
       "      <th>1</th>\n",
       "      <td>4.9</td>\n",
       "      <td>3.0</td>\n",
       "      <td>1.4</td>\n",
       "      <td>0.2</td>\n",
       "      <td>Iris-setosa</td>\n",
       "    </tr>\n",
       "    <tr>\n",
       "      <th>2</th>\n",
       "      <td>4.7</td>\n",
       "      <td>3.2</td>\n",
       "      <td>1.3</td>\n",
       "      <td>0.2</td>\n",
       "      <td>Iris-setosa</td>\n",
       "    </tr>\n",
       "    <tr>\n",
       "      <th>3</th>\n",
       "      <td>4.6</td>\n",
       "      <td>3.1</td>\n",
       "      <td>1.5</td>\n",
       "      <td>0.2</td>\n",
       "      <td>Iris-setosa</td>\n",
       "    </tr>\n",
       "    <tr>\n",
       "      <th>4</th>\n",
       "      <td>5.0</td>\n",
       "      <td>3.6</td>\n",
       "      <td>1.4</td>\n",
       "      <td>0.2</td>\n",
       "      <td>Iris-setosa</td>\n",
       "    </tr>\n",
       "  </tbody>\n",
       "</table>\n",
       "</div>"
      ],
      "text/plain": [
       "   sepal_length  sepal_width  petal_length  petal_width      species\n",
       "0           5.1          3.5           1.4          0.2  Iris-setosa\n",
       "1           4.9          3.0           1.4          0.2  Iris-setosa\n",
       "2           4.7          3.2           1.3          0.2  Iris-setosa\n",
       "3           4.6          3.1           1.5          0.2  Iris-setosa\n",
       "4           5.0          3.6           1.4          0.2  Iris-setosa"
      ]
     },
     "execution_count": 42,
     "metadata": {},
     "output_type": "execute_result"
    }
   ],
   "source": [
    "file_path = \"iris-dataset.csv\"\n",
    "\n",
    "df = pd.read_csv(file_path, \n",
    "                 header=None,\n",
    "                 names=['sepal_length', \n",
    "                        'sepal_width', \n",
    "                        'petal_length', \n",
    "                        'petal_width', \n",
    "                        'species'])\n",
    "\n",
    "df.head()"
   ]
  },
  {
   "cell_type": "code",
   "execution_count": 43,
   "metadata": {},
   "outputs": [],
   "source": [
    "import matplotlib.pyplot as plt\n",
    "import numpy as np\n",
    "import scipy.stats as stats\n",
    "import pandas as pd\n",
    "\n",
    "%matplotlib inline \n",
    "#Função mágica que permite que o Jupter Notebook crie o \n",
    "#grafico como resultado, caso o comando deja o ultimo da linha sem a necesidade de utilizar a função: plt.show()\n",
    "\n",
    "np.random.seed(123)"
   ]
  },
  {
   "cell_type": "code",
   "execution_count": 44,
   "metadata": {},
   "outputs": [
    {
     "data": {
      "text/plain": [
       "<matplotlib.collections.PathCollection at 0x3346c22748>"
      ]
     },
     "execution_count": 44,
     "metadata": {},
     "output_type": "execute_result"
    },
    {
     "data": {
      "image/png": "[encoded data removed]",
      "text/plain": [
       "<matplotlib.figure.Figure at 0x33445bb780>"
      ]
     },
     "metadata": {},
     "output_type": "display_data"
    }
   ],
   "source": [
    "X = np.abs(np.random.normal(60, 500, 100))[:, np.newaxis] \n",
    "X[X <= 40] = 40\n",
    "w = 2000\n",
    "y = X * (w - np.random.normal(0, 500, X.shape[0]))[:, np.newaxis] + 60000\n",
    "\n",
    "plt.scatter(X, y, marker=\"1\")\n",
    "#plt.scatter([1,2,3,1.2,3], [1,2,3,1.2,-10], marker=\"1\")\n",
    "#plt.scatter? -> Documentação"
   ]
  },
  {
   "cell_type": "markdown",
   "metadata": {},
   "source": [
    "### Basic SQL"
   ]
  },
  {
   "cell_type": "markdown",
   "metadata": {},
   "source": [
    "#### SQL Joins (União)"
   ]
  },
  {
   "cell_type": "markdown",
   "metadata": {},
   "source": [
    "#### SQL Agregações"
   ]
  },
  {
   "cell_type": "code",
   "execution_count": null,
   "metadata": {},
   "outputs": [],
   "source": []
  },
  {
   "cell_type": "markdown",
   "metadata": {},
   "source": [
    "#### Cursos gratuitos de Python para iniciantes.\n",
    "\n",
    "https://m.facebook.com/groups/138322456272633?view=permalink&id=1064175937020609\n",
    "\n",
    "Introdução à Ciência da Computação com Python Parte 1 (USP) https://www.coursera.org/learn/ciencia-computacao-python-conceitos\n",
    "\n",
    "Python Fundamentos para Análise de Dados http://www.datascienceacademy.com.br/pages/curso-python-fundamentos-para-analise-de-dados\n",
    "\n",
    "Python Básico https://solyd.com.br/treinamentos/python-basico\n",
    "\n",
    "Aulas Python https://www.youtube.com/playlist?list=PLfCKf0-awunOu2WyLe2pSD2fXUo795xRe\n",
    "\n",
    "Python para Zumbis https://www.youtube.com/playlist?list=PLUukMN0DTKCtbzhbYe2jdF4cr8MOWClXc\n",
    "\n",
    "Curso Python 300 https://www.youtube.com/playlist?list=PL8eBmR3QtPL0j3QLEjQ6rcx8rVB8Ir893\n",
    "\n",
    "Python Programming: A Concise Introduction (Wesleyan University) https://www.coursera.org/learn/python-programming-introduction\n",
    "\n",
    "Data Analysis and Interpretation Specialization (Wesleyan University) https://www.coursera.org/specializations/data-analysis (Este item é uma especialização composta por 4 cursos + 1 projeto. Pode se aprender Python ou SAS.)\n",
    "\n",
    "Data Management and Visualization https://pt.coursera.org/learn/data-visualization\n",
    "\n",
    "Data Analysis Tools https://pt.coursera.org/learn/data-analysis-tools\n",
    "\n",
    "Regression Modeling in Practice https://pt.coursera.org/learn/regression-modeling-practice\n",
    "\n",
    "Machine Learning for Data Analysis https://pt.coursera.org/learn/machine-learning-data-analysis\n",
    "\n",
    "Data Analysis and Interpretation Capstone https://pt.coursera.org/learn/data-analysis-capstone\n",
    "\n",
    "Introduction to Computer Science and Programming Using Python (MIT) https://www.edx.org/course/introduction-computer-science-mitx-6-00-1x-9\n",
    "\n",
    "Using Python for Research (Harvard) https://www.edx.org/course/using-python-research-harvardx-ph526x\n",
    "\n",
    "Intro to Python for Data Science https://www.datacamp.com/courses/intro-to-python-for-data-science\n",
    "\n",
    "Introduction To Python Programming https://www.udemy.com/pythonforbeginnersintro/\n",
    "\n",
    "Learn Python: Python for Beginners https://www.udemy.com/learn-python/\n",
    "\n",
    "Python for Beginners with Examples https://www.udemy.com/ardit-sulce-python-for-beginners/\n",
    "\n",
    "Python for Absolute Beginners https://www.udemy.com/python-for-absolute-beginners-u/\n",
    "\n",
    "Learn Python, it's CAKE (Beginners) https://www.udemy.com/learning-python-not-the-snake/\n",
    "\n",
    "Deep Learning Prerequisites: The Numpy Stack in Python https://www.udemy.com/deep-learning-prerequisites-the-numpy-stack-in-python/\n",
    "\n",
    "Start Programming Today with Python! https://www.udemy.com/free-python/\n",
    "\n",
    "Making Graphs in Python using Matplotlib for Beginners https://www.udemy.com/making-graphs-in-python-using-matplotlib-for-beginners/\n",
    "\n",
    "Python Object Oriented Full Guide https://www.udemy.com/python-object-oriented-from-scratch/\n",
    "\n",
    "Google's Python Class https://developers.google.com/edu/python/\n",
    "\n",
    "#### Fonte\n",
    "https://github.com/arthur-gouveia/ILE/blob/master/Exerc%C3%ADcios%20Python.ipynb"
   ]
  }
 ],
 "metadata": {
  "kernelspec": {
   "display_name": "Python 3",
   "language": "python",
   "name": "python3"
  },
  "language_info": {
   "codemirror_mode": {
    "name": "ipython",
    "version": 3
   },
   "file_extension": ".py",
   "mimetype": "text/x-python",
   "name": "python",
   "nbconvert_exporter": "python",
   "pygments_lexer": "ipython3",
   "version": "3.6.4"
  }
 },
 "nbformat": 4,
 "nbformat_minor": 2
}
